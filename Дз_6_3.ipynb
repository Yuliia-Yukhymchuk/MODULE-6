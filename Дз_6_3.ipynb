{
 "cells": [
  {
   "cell_type": "markdown",
   "id": "92b791b7-892b-4dac-8c29-e9864a9d1992",
   "metadata": {},
   "source": [
    "# Завдання 1\n",
    "\n",
    "В англійському алфавіті 26 літер. Якщо літери не повинні повторюватися, кількість різних паролів визначається кількістю способів обрати та впорядкувати 3 різні літери з 26\n",
    "\n",
    "$P(26, 3) = \\frac{26!}{(26-3)!} = 26 \\times 25 \\times 24 = 15600$\n"
   ]
  },
  {
   "cell_type": "markdown",
   "id": "cd06105b-d53c-4f2d-9061-fe945bc67cad",
   "metadata": {},
   "source": [
    "# Завдання 2\n",
    "\n",
    "В цьому випадку порядок вибору не важливий, тому це завдання на комбінації:\n",
    "\n",
    "$C(8, 3) = \\frac{8!}{3!(8-3)!} = \\frac{8 \\times 7 \\times 6}{3 \\times 2 \\times 1} = 56$\n"
   ]
  },
  {
   "cell_type": "markdown",
   "id": "0cd8782e-d465-4244-a820-2f7b2a2721f7",
   "metadata": {},
   "source": [
    "# Завдання 3\n",
    "\n",
    "Кількість різних способів розташувати 5 різних книг\n",
    "\n",
    "$5! = 5 \\times 4 \\times 3 \\times 2 \\times 1 = 120$\n"
   ]
  },
  {
   "cell_type": "markdown",
   "id": "10cc1230-efe0-42e8-af78-660b169d77ce",
   "metadata": {},
   "source": [
    "# Завдання 4\n",
    "Для того, щоб витягнути 3 кулі, кожна з яких повинна бути різного кольору, потрібно:\n",
    "\n",
    "1. Витягнути 1 червону кулю із 4 доступних:\n",
    "   \\[\n",
    "   C(4, 1) = 4\n",
    "   \\]\n",
    "\n",
    "2. Витягнути 1 синю кулю із 3 доступних:\n",
    "   \\[\n",
    "   C(3, 1) = 3\n",
    "   \\]\n",
    "\n",
    "3. Витягнути 1 зелену кулю із 2 доступних:\n",
    "   \\[\n",
    "   C(2, 1) = 2\n",
    "   \\]\n",
    "\n",
    "Загальна кількість способів витягнути 3 кулі різних кольорів:\n",
    "\n",
    "$C(4, 1) \\times C(3, 1) \\times C(2, 1) = 4 \\times 3 \\times 2 = 24$\n"
   ]
  },
  {
   "cell_type": "code",
   "execution_count": null,
   "id": "1273710e-ebf0-498d-9aba-f235c985da17",
   "metadata": {},
   "outputs": [],
   "source": []
  }
 ],
 "metadata": {
  "kernelspec": {
   "display_name": "Python 3 (ipykernel)",
   "language": "python",
   "name": "python3"
  },
  "language_info": {
   "codemirror_mode": {
    "name": "ipython",
    "version": 3
   },
   "file_extension": ".py",
   "mimetype": "text/x-python",
   "name": "python",
   "nbconvert_exporter": "python",
   "pygments_lexer": "ipython3",
   "version": "3.12.2"
  }
 },
 "nbformat": 4,
 "nbformat_minor": 5
}
