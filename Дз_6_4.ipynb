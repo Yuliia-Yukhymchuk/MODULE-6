{
 "cells": [
  {
   "cell_type": "markdown",
   "id": "b9858421-ccc3-4431-bc5a-2d24f3f2dc00",
   "metadata": {},
   "source": [
    "# Завдання 1\n",
    "\n",
    "Нехай $A$ — подія, що карта є тузом, а $B$ — подія, що карта пікова. Шукаємо умовну ймовірність $P(A|B)$.\n",
    "\n",
    "Використовуючи формулу умовної ймовірності:\n",
    "\n",
    "$\n",
    "P(A|B) = \\frac{P(A \\cap B)}{P(B)}\n",
    "$\n",
    "\n",
    "$P(A \\cap B)= \\frac{1}{52}$ — ймовірність витягнути пікового туза:\n",
    "\n",
    "\n",
    "$P(B)= \\frac{13}{52}$ — ймовірність витягнути пікову карту:\n",
    "\n",
    "Отже:\n",
    "\n",
    "$\n",
    "P(A|B) = \\frac{P(A \\cap B)}{P(B)} = \\frac{\\frac{1}{52}}{\\frac{13}{52}} = \\frac{1}{13}\n",
    "$\n",
    "\n",
    "Таким чином, ймовірність того, що витягнута карта є тузом, якщо відомо, що вона пікова, дорівнює $\\frac{1}{13}$.\n"
   ]
  },
  {
   "cell_type": "markdown",
   "id": "0128fb45-a8e3-48a7-a371-4f361711f05e",
   "metadata": {},
   "source": [
    "# Завдання 2\n",
    "\n",
    "Нехай $A$ — подія, що студент носить окуляри, а $B$ — подія, що студент — дівчина. Шукаємо умовну ймовірність $P(B|A)$.\n",
    "\n",
    "$P(A \\cap B) = \\frac{5}{30}$ — ймовірність того, що студент — дівчина, яка носить окуляри:\n",
    "\n",
    "\n",
    "$P(A)$ = \\frac{12}{30} — ймовірність того, що студент носить окуляри:\n",
    "\n",
    "Отже:\n",
    "\n",
    "$\n",
    "P(B|A) = \\frac{P(A \\cap B)}{P(A)} = \\frac{\\frac{5}{30}}{\\frac{12}{30}} = \\frac{5}{12}\n",
    "$\n",
    "\n",
    "Таким чином, ймовірність того, що студент, який носить окуляри, — дівчина, дорівнює $\\frac{5}{12}$.\n"
   ]
  },
  {
   "cell_type": "markdown",
   "id": "3f6ea208-3357-4c44-b02b-74faa7a12052",
   "metadata": {},
   "source": [
    "# Завдання 3\n",
    "\n",
    "а) \n",
    "\n",
    "$ \\frac{2}{9} $\n",
    "\n",
    "б) \n",
    "\n",
    "$ \\frac{1}{8} $\n",
    "\n",
    "в) \n",
    "\n",
    "$ 0 $\n"
   ]
  },
  {
   "cell_type": "code",
   "execution_count": null,
   "id": "dba6da8d-b0a1-490d-8814-0ca7eaa28d87",
   "metadata": {},
   "outputs": [],
   "source": []
  }
 ],
 "metadata": {
  "kernelspec": {
   "display_name": "Python 3 (ipykernel)",
   "language": "python",
   "name": "python3"
  },
  "language_info": {
   "codemirror_mode": {
    "name": "ipython",
    "version": 3
   },
   "file_extension": ".py",
   "mimetype": "text/x-python",
   "name": "python",
   "nbconvert_exporter": "python",
   "pygments_lexer": "ipython3",
   "version": "3.12.2"
  }
 },
 "nbformat": 4,
 "nbformat_minor": 5
}
