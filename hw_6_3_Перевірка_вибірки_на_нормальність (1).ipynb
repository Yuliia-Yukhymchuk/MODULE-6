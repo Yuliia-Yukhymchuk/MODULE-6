{
 "cells": [
  {
   "cell_type": "markdown",
   "id": "e152f6d6",
   "metadata": {
    "ExecuteTime": {
     "end_time": "2022-12-10T14:29:24.703416Z",
     "start_time": "2022-12-10T14:29:24.688485Z"
    },
    "id": "e152f6d6"
   },
   "source": [
    "## Домашнє завдання на тему \"Перевірка вибірки на нормальність\""
   ]
  },
  {
   "cell_type": "markdown",
   "id": "cd404683",
   "metadata": {
    "id": "cd404683"
   },
   "source": [
    "0.Зчитайте дані з `data.csv` та запишіть значення колонки data у форматі np.ndarray в змінну data. Ми будемо далі працювати з цією змінною."
   ]
  },
  {
   "cell_type": "code",
   "execution_count": 5,
   "id": "b20b6ba2",
   "metadata": {
    "id": "b20b6ba2"
   },
   "outputs": [
    {
     "data": {
      "text/plain": [
       "array([17.49945292, 19.66239904,  7.18282343, 29.84162485,  9.23938649,\n",
       "       14.94951581, 23.0172885 , 12.52827148, 13.65228669, 14.54595431,\n",
       "       23.30872427, 33.75324808, 20.24923636, 13.29244733, 23.23434992,\n",
       "       16.4230418 , 19.88521702, 27.05000732, 15.5127743 , 20.05415151,\n",
       "       14.73135264, 19.06139498, 21.53942271, 14.06732571, 17.9670682 ,\n",
       "       18.58289581, 16.17406993, 12.87432628, 11.47269664, 19.07902883,\n",
       "       18.38565824, 33.38820073,  5.39139454, 20.67635903, 22.22266722,\n",
       "       28.15780318, 23.01114324, 14.93471778, 20.00005857, 23.25411543,\n",
       "       18.11895082, 24.62607043,  8.79145607, 30.387108  , 28.80606806,\n",
       "       17.98593597, 23.66804468, 20.28782355, 15.02518827, 20.52626131,\n",
       "       26.00219532, 17.71344489, 17.74598346, 19.55317542, 22.60097798,\n",
       "       27.67027538, 16.19192417, 23.05037746, 21.29669604,  8.84832568,\n",
       "       17.48410111, 19.20602661, 19.76257856, 21.9560206 ,  7.75806171,\n",
       "       20.27753314, 15.93394654, 11.36336584, 23.14577858, 24.41167746,\n",
       "       16.08049839, 25.05473769, 17.71090111, 20.39893405, 13.40756632,\n",
       "       29.50692234,  4.04330326, 19.45128426, 24.17071763,  7.79920072,\n",
       "       18.86318441, 19.53668801, 24.94821803, 27.48927752, 17.57664638,\n",
       "       11.692888  , 28.20341254, 27.3073138 , 17.22796791, 22.10533096,\n",
       "       22.2911974 , 23.39765265, 21.22524787, 28.44017745,  9.57224297,\n",
       "       26.24494372, 22.28283182, 18.69718839, 27.04118899,  5.93838085])"
      ]
     },
     "execution_count": 5,
     "metadata": {},
     "output_type": "execute_result"
    }
   ],
   "source": [
    "import pandas as pd\n",
    "import numpy as np\n",
    "#df = pd.read_csv('data/data.csv')\n",
    "df = pd.read_csv('/Users/julia/data/data.csv')\n",
    "data = np.array(df['data'])\n",
    "data"
   ]
  },
  {
   "cell_type": "markdown",
   "id": "3d06cbbf",
   "metadata": {
    "id": "3d06cbbf"
   },
   "source": [
    "Запустіть код нижче. Для коректної робити всіх подальших методів дані мають бути у вигляді одновимірного вектора, тобто мати розмір (100,)."
   ]
  },
  {
   "cell_type": "code",
   "execution_count": 7,
   "id": "cce1632b",
   "metadata": {
    "colab": {
     "base_uri": "https://localhost:8080/"
    },
    "id": "cce1632b",
    "outputId": "bcf85c7e-bc2c-43b6-ec69-d48d143d1885"
   },
   "outputs": [
    {
     "data": {
      "text/plain": [
       "(100,)"
      ]
     },
     "execution_count": 7,
     "metadata": {},
     "output_type": "execute_result"
    }
   ],
   "source": [
    "data.shape"
   ]
  },
  {
   "cell_type": "markdown",
   "id": "8dc4aa91",
   "metadata": {
    "ExecuteTime": {
     "end_time": "2022-12-10T09:23:15.841042Z",
     "start_time": "2022-12-10T09:23:15.820896Z"
    },
    "id": "8dc4aa91"
   },
   "source": [
    "## Перевірка вибірки на нормальність"
   ]
  },
  {
   "cell_type": "markdown",
   "id": "5bfe9273",
   "metadata": {
    "ExecuteTime": {
     "end_time": "2022-12-10T09:35:55.583520Z",
     "start_time": "2022-12-10T09:35:55.577220Z"
    },
    "id": "5bfe9273"
   },
   "source": [
    "1.**Візуалізація розподілу**\n",
    "\n",
    "Подивимось спершу на розподіл наших даних. Для цього побудуємо розподіл даних (графік на вигляд як гістограма, тільки він нормований так, аби сума під кривою була рівна 1), а на нього накладемо лінійний графік щільності (PDF - для побудови використовуємо `scipy.stats.norm.pdf(...)`) теоретичного нормального розподілу з середнім та стандартним відхиленням як у наших даних.\n",
    "\n",
    "Візуалізацію будуємо за аналогією прикладу, що наводився у лекції, коли ми будували кілька кривих щільності для одних і тих самих даних, тільки значно більш спрощено, бо розподіл для порівняння у нас лише один - нормальний.\n",
    "\n",
    "Побудуйте графік як наведено в очікуваному результаті та напишіть ваш висновок, чи схоже, що дані розподілені нормально?\n",
    "\n",
    "Підказка: весь графік будується за 6 рядків коду, три з яких - підписи осей і графіку. Аби побудувати лінійний графік функції щільності та він наклався на гістограму, необхідно задати значення іксів з діапазону значень наших даних. Ці значення вже задані для вас, залишилось дописати 5 рядочків коду :)"
   ]
  },
  {
   "cell_type": "code",
   "execution_count": 20,
   "id": "22ad6811",
   "metadata": {
    "ExecuteTime": {
     "end_time": "2022-12-10T09:42:05.346737Z",
     "start_time": "2022-12-10T09:42:05.343690Z"
    },
    "id": "22ad6811"
   },
   "outputs": [
    {
     "data": {
      "text/plain": [
       "Text(0, 0.5, 'Density')"
      ]
     },
     "execution_count": 20,
     "metadata": {},
     "output_type": "execute_result"
    },
    {
     "data": {
      "image/png": "[encoded data removed]",
      "text/plain": [
       "<Figure size 640x480 with 1 Axes>"
      ]
     },
     "metadata": {},
     "output_type": "display_data"
    }
   ],
   "source": [
    "import matplotlib.pyplot as plt\n",
    "import seaborn as sns\n",
    "from scipy.stats import norm  \n",
    "\n",
    "x_axis = np.arange(data.min(), data.max(), 0.01)\n",
    "\n",
    " \n",
    "# Параметри нормального розподілу (середнє і стандартне відхилення)\n",
    "mu, sigma = np.mean(data), np.std(data)\n",
    "\n",
    "# Гістограма (нормована)\n",
    "sns.histplot(data, kde=False, stat=\"density\", bins=30, color='skyblue')\n",
    "\n",
    "# Лінійний графік PDF нормального розподілу\n",
    "plt.plot(x_axis, norm.pdf(x_axis, mu, sigma), color='red', lw=2)\n",
    "\n",
    "plt.xlabel('Values')\n",
    "plt.ylabel('Density')"
   ]
  },
  {
   "cell_type": "markdown",
   "id": "0a6f0040-bc5c-47a9-bf28-4a29c6234471",
   "metadata": {},
   "source": [
    "# З цього графіку можна сказати, що розподіл схожий до нормального"
   ]
  },
  {
   "cell_type": "markdown",
   "id": "992eeef4",
   "metadata": {
    "id": "992eeef4"
   },
   "source": [
    "Очікуваний результат:"
   ]
  },
  {
   "cell_type": "markdown",
   "id": "95870720",
   "metadata": {
    "id": "95870720"
   },
   "source": [
    "![](https://drive.google.com/uc?export=view&id=1SB_HOIgwfZXrtglBBlDfMYjg2eGGBSIX)\n"
   ]
  },
  {
   "cell_type": "markdown",
   "id": "646b2f36",
   "metadata": {
    "id": "646b2f36"
   },
   "source": [
    "2.**QQ графік**\n",
    "\n",
    "Ще одним візуалізаційним методом перевірки розподілу вибірки даних на нормальність є графік квантиль-квантиль, Q-Q графік або QQ графік. У лекції ми розбирали, що це за графік, та як його інтерпретувати.\n",
    "\n",
    "Побудуйте QQ-Plot для порівняння з нормальним розподілом наших даних та напишіть висновок з графіку, чи можна сказати, що дані розподілені за нормальним законом?"
   ]
  },
  {
   "cell_type": "code",
   "execution_count": 26,
   "id": "7TL_nnheiQiJ",
   "metadata": {
    "id": "7TL_nnheiQiJ"
   },
   "outputs": [
    {
     "data": {
      "image/png": "[encoded data removed]",
      "text/plain": [
       "<Figure size 640x480 with 1 Axes>"
      ]
     },
     "metadata": {},
     "output_type": "display_data"
    }
   ],
   "source": [
    "from scipy.stats import probplot\n",
    "\n",
    "probplot(data, dist=\"norm\", plot=plt)\n",
    "plt.title(\"QQ plot for checking the normality of the distribution\")\n",
    "plt.show()"
   ]
  },
  {
   "cell_type": "markdown",
   "id": "f66877d4",
   "metadata": {
    "id": "f66877d4"
   },
   "source": [
    "Очікуваний результат:"
   ]
  },
  {
   "cell_type": "markdown",
   "id": "04781d18-b0cd-4ba2-bb67-c7eadb84c08f",
   "metadata": {},
   "source": [
    "# не всі точки лежать на прямій плюс на кінцях графіка точки лежать нижче, що може свідчити про лівоскошений розподіл  "
   ]
  },
  {
   "cell_type": "markdown",
   "id": "2e71bead",
   "metadata": {
    "id": "2e71bead"
   },
   "source": [
    "![](https://drive.google.com/uc?export=view&id=1-eDd16OVgqEjzFUBjJJzSMcwSrzNNm_V)"
   ]
  },
  {
   "cell_type": "markdown",
   "id": "789a19c2",
   "metadata": {
    "id": "789a19c2"
   },
   "source": [
    "3.**Тест Шапіро-Вілка**\n",
    "\n",
    "Тест Шапіро-Вілка визначає для вибірки, наскільки ймовірно, що вона була витягнута з нормального розподілу.\n",
    "Нульова гіпотеза H0 тесту Шапіро-Вилка полягає в тому, що випадкова величина, вибірка якої відома, розподілена за нормальним законом. Альтернативна гіпотеза H1 полягає в тому, що закон розподілу **не** є нормальним.\n",
    "\n",
    "**Задача**: протестувати нашу вибірку на нормальність з допомогою теcта Шапіро-Вілка, реалізованого в функцію [scipy.stats.shapiro](https://docs.scipy.org/doc/scipy/reference/generated/scipy.stats.shapiro.html). Висновок зробіть на основі аналізу p-значення. На рівні значущості = 0.05 чи можемо ми відхилити гіпотезу Н0? Відповідь можна надати текстом, або написати простий if-else блок для виведення висновку спираючись на отримане p-значення. Нагадування:\n",
    "- p <= alpha: відхиляємо H0.\n",
    "- p > alpha: не можемо відхилити H0.\n",
    "\n",
    "Також пропоную вам переглянути оце [відео](https://youtu.be/eh9eYLBecWk), тут розказується про QQ графік, тест Шапіро, та звʼязок між ними.\n"
   ]
  },
  {
   "cell_type": "code",
   "execution_count": 31,
   "id": "6ACtiMtQiR2S",
   "metadata": {
    "id": "6ACtiMtQiR2S"
   },
   "outputs": [
    {
     "name": "stdout",
     "output_type": "stream",
     "text": [
      "Тест Шапіро-Вілка:\n",
      "Статистика тесту: 0.9887855685963715\n",
      "P-значення: 0.5677973106978921\n",
      "Не можемо відхилити H0: дані розподілені нормально.\n"
     ]
    }
   ],
   "source": [
    "from scipy.stats import shapiro, normaltest\n",
    "\n",
    "stat, p_value_shapiro = shapiro(data)\n",
    "alpha = 0.05\n",
    "print(\"Тест Шапіро-Вілка:\")\n",
    "print(\"Статистика тесту:\", stat)\n",
    "print(\"P-значення:\", p_value_shapiro)\n",
    "\n",
    "# Прийняття або відхилення H0\n",
    "if p_value_shapiro > alpha:\n",
    "    print(\"не можемо відхилити H0\")\n",
    "else:\n",
    "    print(\" alphвідхиляємо H0\")"
   ]
  },
  {
   "cell_type": "code",
   "execution_count": null,
   "id": "1de46539-e476-438d-b1de-93ea9ab10d43",
   "metadata": {},
   "outputs": [],
   "source": []
  }
 ],
 "metadata": {
  "colab": {
   "provenance": []
  },
  "hide_input": false,
  "kernelspec": {
   "display_name": "Python 3 (ipykernel)",
   "language": "python",
   "name": "python3"
  },
  "language_info": {
   "codemirror_mode": {
    "name": "ipython",
    "version": 3
   },
   "file_extension": ".py",
   "mimetype": "text/x-python",
   "name": "python",
   "nbconvert_exporter": "python",
   "pygments_lexer": "ipython3",
   "version": "3.12.2"
  },
  "toc": {
   "base_numbering": 1,
   "nav_menu": {},
   "number_sections": true,
   "sideBar": true,
   "skip_h1_title": false,
   "title_cell": "Table of Contents",
   "title_sidebar": "Contents",
   "toc_cell": false,
   "toc_position": {},
   "toc_section_display": true,
   "toc_window_display": false
  },
  "varInspector": {
   "cols": {
    "lenName": 16,
    "lenType": 16,
    "lenVar": 40
   },
   "kernels_config": {
    "python": {
     "delete_cmd_postfix": "",
     "delete_cmd_prefix": "del ",
     "library": "var_list.py",
     "varRefreshCmd": "print(var_dic_list())"
    },
    "r": {
     "delete_cmd_postfix": ") ",
     "delete_cmd_prefix": "rm(",
     "library": "var_list.r",
     "varRefreshCmd": "cat(var_dic_list()) "
    }
   },
   "types_to_exclude": [
    "module",
    "function",
    "builtin_function_or_method",
    "instance",
    "_Feature"
   ],
   "window_display": false
  }
 },
 "nbformat": 4,
 "nbformat_minor": 5
}
