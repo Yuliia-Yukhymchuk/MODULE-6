{
 "cells": [
  {
   "cell_type": "markdown",
   "metadata": {
    "id": "e411f482"
   },
   "source": [
    "## Аналіз A/B тесту"
   ]
  },
  {
   "cell_type": "markdown",
   "metadata": {
    "ExecuteTime": {
     "end_time": "2022-12-10T17:43:42.137588Z",
     "start_time": "2022-12-10T17:43:42.124712Z"
    },
    "id": "f41183ed"
   },
   "source": [
    "Маємо проаналізувати дані A/B тесту в популярній [грі Cookie Cats](https://www.facebook.com/cookiecatsgame). Це класична гра-головоломка в стилі «з’єднай три», де гравець повинен з’єднати плитки одного кольору, щоб очистити дошку та виграти рівень. На дошці також зображені співаючі котики :)\n",
    "\n",
    "Під час проходження гри гравці стикаються з воротами, які змушують їх чекати деякий час, перш ніж вони зможуть прогресувати або зробити покупку в додатку. У цьому блоці завдань ми проаналізуємо результати A/B тесту, коли перші ворота в Cookie Cats було переміщено з рівня 30 на рівень 40. Зокрема, ми проаналізуємо вплив на утримання (retention) гравців. Тобто хочемо зрозуміти чи переміщення воріт на 10 рівнів пізніше якимось чином вплинуло на те, що користувачі перестають грати в гру раніше чи пізніше з точки зору кількості їх днів з моменту встановлення гри.\n",
    "\n",
    "Будемо працювати з даними з файлу `cookie_cats.csv`. Змінні в даних наступні:\n",
    "\n",
    "- userid - унікальний номер, який ідентифікує кожного гравця.\n",
    "- version - чи потрапив гравець в контрольну групу (gate_30 - ворота на 30 рівні) чи тестову групу (gate_40 - ворота на 40 рівні).\n",
    "- sum_gamerounds - кількість ігрових раундів, зіграних гравцем протягом першого тижня після встановлення\n",
    "- retention_1 - чи через 1 день після встановлення гравець повернувся і почав грати?\n",
    "- retention_7 - чи через 7 днів після встановлення гравець повернувся і почав грати?\n",
    "\n",
    "Коли гравець встановлював гру, його випадковим чином призначали до групи gate_30 або gate_40."
   ]
  },
  {
   "cell_type": "markdown",
   "metadata": {
    "id": "22f03df4"
   },
   "source": [
    "1. Зчитайте дані АВ тесту у змінну `df` та виведіть середнє значення показника показник `retention_7` (утримання на 7 день) по версіям гри. Сформулюйте гіпотезу: яка версія дає краще утримання через 7 днів після встановлення гри?"
   ]
  },
  {
   "cell_type": "code",
   "execution_count": 17,
   "metadata": {
    "id": "MVzMTs-jh22b"
   },
   "outputs": [
    {
     "data": {
      "text/html": [
       "<div>\n",
       "<style scoped>\n",
       "    .dataframe tbody tr th:only-of-type {\n",
       "        vertical-align: middle;\n",
       "    }\n",
       "\n",
       "    .dataframe tbody tr th {\n",
       "        vertical-align: top;\n",
       "    }\n",
       "\n",
       "    .dataframe thead th {\n",
       "        text-align: right;\n",
       "    }\n",
       "</style>\n",
       "<table border=\"1\" class=\"dataframe\">\n",
       "  <thead>\n",
       "    <tr style=\"text-align: right;\">\n",
       "      <th></th>\n",
       "      <th>userid</th>\n",
       "      <th>version</th>\n",
       "      <th>sum_gamerounds</th>\n",
       "      <th>retention_1</th>\n",
       "      <th>retention_7</th>\n",
       "    </tr>\n",
       "  </thead>\n",
       "  <tbody>\n",
       "    <tr>\n",
       "      <th>0</th>\n",
       "      <td>116</td>\n",
       "      <td>gate_30</td>\n",
       "      <td>3</td>\n",
       "      <td>False</td>\n",
       "      <td>False</td>\n",
       "    </tr>\n",
       "    <tr>\n",
       "      <th>1</th>\n",
       "      <td>337</td>\n",
       "      <td>gate_30</td>\n",
       "      <td>38</td>\n",
       "      <td>True</td>\n",
       "      <td>False</td>\n",
       "    </tr>\n",
       "    <tr>\n",
       "      <th>2</th>\n",
       "      <td>377</td>\n",
       "      <td>gate_40</td>\n",
       "      <td>165</td>\n",
       "      <td>True</td>\n",
       "      <td>False</td>\n",
       "    </tr>\n",
       "    <tr>\n",
       "      <th>3</th>\n",
       "      <td>483</td>\n",
       "      <td>gate_40</td>\n",
       "      <td>1</td>\n",
       "      <td>False</td>\n",
       "      <td>False</td>\n",
       "    </tr>\n",
       "    <tr>\n",
       "      <th>4</th>\n",
       "      <td>488</td>\n",
       "      <td>gate_40</td>\n",
       "      <td>179</td>\n",
       "      <td>True</td>\n",
       "      <td>True</td>\n",
       "    </tr>\n",
       "    <tr>\n",
       "      <th>...</th>\n",
       "      <td>...</td>\n",
       "      <td>...</td>\n",
       "      <td>...</td>\n",
       "      <td>...</td>\n",
       "      <td>...</td>\n",
       "    </tr>\n",
       "    <tr>\n",
       "      <th>90184</th>\n",
       "      <td>9999441</td>\n",
       "      <td>gate_40</td>\n",
       "      <td>97</td>\n",
       "      <td>True</td>\n",
       "      <td>False</td>\n",
       "    </tr>\n",
       "    <tr>\n",
       "      <th>90185</th>\n",
       "      <td>9999479</td>\n",
       "      <td>gate_40</td>\n",
       "      <td>30</td>\n",
       "      <td>False</td>\n",
       "      <td>False</td>\n",
       "    </tr>\n",
       "    <tr>\n",
       "      <th>90186</th>\n",
       "      <td>9999710</td>\n",
       "      <td>gate_30</td>\n",
       "      <td>28</td>\n",
       "      <td>True</td>\n",
       "      <td>False</td>\n",
       "    </tr>\n",
       "    <tr>\n",
       "      <th>90187</th>\n",
       "      <td>9999768</td>\n",
       "      <td>gate_40</td>\n",
       "      <td>51</td>\n",
       "      <td>True</td>\n",
       "      <td>False</td>\n",
       "    </tr>\n",
       "    <tr>\n",
       "      <th>90188</th>\n",
       "      <td>9999861</td>\n",
       "      <td>gate_40</td>\n",
       "      <td>16</td>\n",
       "      <td>False</td>\n",
       "      <td>False</td>\n",
       "    </tr>\n",
       "  </tbody>\n",
       "</table>\n",
       "<p>90189 rows × 5 columns</p>\n",
       "</div>"
      ],
      "text/plain": [
       "        userid  version  sum_gamerounds  retention_1  retention_7\n",
       "0          116  gate_30               3        False        False\n",
       "1          337  gate_30              38         True        False\n",
       "2          377  gate_40             165         True        False\n",
       "3          483  gate_40               1        False        False\n",
       "4          488  gate_40             179         True         True\n",
       "...        ...      ...             ...          ...          ...\n",
       "90184  9999441  gate_40              97         True        False\n",
       "90185  9999479  gate_40              30        False        False\n",
       "90186  9999710  gate_30              28         True        False\n",
       "90187  9999768  gate_40              51         True        False\n",
       "90188  9999861  gate_40              16        False        False\n",
       "\n",
       "[90189 rows x 5 columns]"
      ]
     },
     "execution_count": 17,
     "metadata": {},
     "output_type": "execute_result"
    }
   ],
   "source": [
    "import pandas as pd\n",
    "import numpy as np\n",
    "#df = pd.read_csv('data/cookie_cats.csv')\n",
    "df = pd.read_csv('/Users/julia/data/data_statistics/cookie_cats.csv')\n",
    "df"
   ]
  },
  {
   "cell_type": "code",
   "execution_count": 19,
   "metadata": {},
   "outputs": [
    {
     "data": {
      "text/plain": [
       "version\n",
       "gate_30    0.190201\n",
       "gate_40    0.182000\n",
       "Name: retention_7, dtype: float64"
      ]
     },
     "execution_count": 19,
     "metadata": {},
     "output_type": "execute_result"
    }
   ],
   "source": [
    "grouped = df.groupby(\"version\")['retention_7'].mean()\n",
    "grouped"
   ]
  },
  {
   "cell_type": "markdown",
   "metadata": {},
   "source": [
    "# Висновки\n",
    "Ці середні значення представляють частку гравців, які повернулися до гри через 7 днів після її встановлення, для кожної з версій гри:\n",
    "\n",
    "gate_30 (0.190201): приблизно 19% гравців, які мали ворота на рівні 30, повернулися до гри через 7 днів після встановлення.\n",
    "\n",
    "gate_40 (0.182000): приблизно 18.2% гравців, які мали ворота на рівні 40, повернулися до гри через 7 днів після встановлення.\n",
    "На основі цих середніх можна зробити попередній висновок, що утримання на 7 день трохи вище в контрольній групі (ворота на рівні 30)."
   ]
  },
  {
   "cell_type": "markdown",
   "metadata": {
    "id": "74e9c6ca"
   },
   "source": [
    "2. Перевірте з допомогою z-тесту аналогічно до прикладу в лекції, чи дає якась з версій гри кращий показник `retention_7` на рівні значущості 0.05. Обчисліть також довірчі інтервали для двох вибірок. Виведіть результат у форматі:\n",
    "```\n",
    "z statistic: ...\n",
    "p-value: ...\n",
    "Довірчий інтервал 95% для групи control: [..., ...]\n",
    "Довірчий інтервал 95% для групи treatment: [..., ...]\n",
    "```\n",
    "де замість `...` - обчислені значення. В якості висновка дайте відповідь на два питання:  \n",
    "    1. чи є статистична значущою різниця між поведінкою користувачів у різних версіях гри?   \n",
    "    2. чи перетинаються довірчі інтервали утримання користувачів з різних версій гри? Про що це каже?  \n",
    "    \n",
    "Зверніть увагу, в такому і схожому завданнях ми використовуєм `proportion` Z-тест. Це тому що в нас залежна змінна має бінарне значення (повернеться аби ні користувач, чи клікне або ні користувач в інших ситуаціях - всього два можливих значення в змінної: 0/1, True/False ). Якщо б ми вимірювали скажімо чи є стат. значущою різниця між вагою чоловіків і жінок в певній вибірці, ми б використовувавли функцію `statsmodels.stats.ztest`, бо залежна змінна `вага` є неперервною (тип float, замість типу int чи bool і тільки двох можливих значень)."
   ]
  },
  {
   "cell_type": "code",
   "execution_count": 26,
   "metadata": {
    "id": "kXQE4gyjh5MS"
   },
   "outputs": [
    {
     "name": "stdout",
     "output_type": "stream",
     "text": [
      "z statistic: 3.1644\n",
      "p-value: 0.0016\n",
      "Довірчий інтервал 95% для групи gate_30: [0.1866, 0.1938]\n",
      "Довірчий інтервал 95% для групи gate_40: [0.1785, 0.1855]\n"
     ]
    }
   ],
   "source": [
    "import numpy as np\n",
    "from statsmodels.stats.proportion import proportions_ztest, proportion_confint\n",
    "\n",
    "# Кількість гравців у кожній групі\n",
    "n_gate_30 = df[df['version'] == 'gate_30']['retention_7'].count()\n",
    "n_gate_40 = df[df['version'] == 'gate_40']['retention_7'].count()\n",
    "\n",
    "# Кількість гравців, які повернулися на 7 день\n",
    "success_gate_30 = df[df['version'] == 'gate_30']['retention_7'].sum()\n",
    "success_gate_40 = df[df['version'] == 'gate_40']['retention_7'].sum()\n",
    "\n",
    "# Пропорції\n",
    "p_gate_30 = success_gate_30 / n_gate_30\n",
    "p_gate_40 = success_gate_40 / n_gate_40\n",
    "\n",
    "# Z-тест для пропорцій\n",
    "count = np.array([success_gate_30, success_gate_40])\n",
    "nobs = np.array([n_gate_30, n_gate_40])\n",
    "z_stat, p_value = proportions_ztest(count, nobs)\n",
    "\n",
    "# Довірчі інтервали для кожної групи\n",
    "ci_gate_30 = proportion_confint(success_gate_30, n_gate_30, alpha=0.05)\n",
    "ci_gate_40 = proportion_confint(success_gate_40, n_gate_40, alpha=0.05)\n",
    "\n",
    "\n",
    "# Виводимо результати\n",
    "print(f\"z statistic: {z_stat:.4f}\")\n",
    "print(f\"p-value: {p_value:.4f}\")\n",
    "print(f\"Довірчий інтервал 95% для групи gate_30: [{ci_gate_30[0]:.4f}, {ci_gate_30[1]:.4f}]\")\n",
    "print(f\"Довірчий інтервал 95% для групи gate_40: [{ci_gate_40[0]:.4f}, {ci_gate_40[1]:.4f}]\")\n"
   ]
  },
  {
   "cell_type": "markdown",
   "metadata": {},
   "source": [
    "# Висновки\n",
    "p-value (0.0016) менше рівня значущості (0.05). Це свідчить про те, що різниця в утриманні користувачів між версіями gate_30 і gate_40 є статистично значущою.\n",
    "\n",
    "довірчі інтервали для gate_30 [0.1866, 0.1938] і gate_40 [0.1785, 0.1855] не перетинаються. Це вказує на те, що утримання користувачів у цих двох групах дійсно відрізняється, і це підтверджує результати z-тесту.\n",
    "\n",
    "Це означає, що переміщення воріт вплинуло на утримання гравців, і версія з ворота на рівні 30 має кращі результати."
   ]
  },
  {
   "cell_type": "markdown",
   "metadata": {
    "ExecuteTime": {
     "end_time": "2022-12-10T20:50:10.709766Z",
     "start_time": "2022-12-10T20:50:10.639999Z"
    },
    "id": "076cd867"
   },
   "source": [
    "3. Є ще один тип тестів, який використовується для бінарної метрики як от \"зробить юзер дію, чи ні\" - тест [**Хі-квадрат**](https://www.bmj.com/about-bmj/resources-readers/publications/statistics-square-one/8-chi-squared-tests) (ще одне [пояснення](https://www.scribbr.com/statistics/chi-square-tests/) тесту з прикладами). В нього інші гіпотези Н0 і Н1 на відміну від z- та t-тестів. А також цей тест можна використовувати, якщо в нас більше за 2 досліджувані групи, тобто в нас не А/В тест, а А/B/C/D, наприклад.  \n",
    "\n",
    "В **z- та t-тестах** (які відрізняються тим, що ми в першому не знаємо дисперсію генеральної сукупності, але якщо в нас великий набір даних, то ці два тести дають дуже схожі результати) **ми перевіряємо, чи є різниця у середніх показниках по групам користувачів**.  \n",
    "\n",
    "А в **тесті Хі-квадрат ми перевіряємо чи є звʼязок між групою користувача і тим, чи він зробить цікаву нам дію**. Це ніби дослідження одного і того самого, але дещо різними способами. Для перевірки, можна виконувати кілька тестів (особливо, якщо один дає якийсь непереконливий результат типу р-значення 0.07 - наче і fail to regect H0 на рівні стат значущості 5%, але цікаво, що скажуть інші тести), тож, зробимо і ми тест хі-квадрат та порівняємо його результат з z-тестом.\n",
    "\n",
    "Про різницю між тестами можна почитати ще [тут](https://stats.stackexchange.com/a/178860) - це просто пояснення користувача стековерфлоу, але там розумні люди сидять.\n",
    "\n",
    "Для проведення хі-квадрат тесту скористаємось функцією з `scipy.stats` `chi2_contingency` для обчислення статистики хі-квадрат і р-значення для перевірки конкретної гіпотези. У цю функцію вам треба передати таблицю 2х2: кількість випадків для кожної версії гри і значення `retention_7`.\n",
    "\n",
    "**Задача**: виконайте тест хі-квадрат на рівні значущості 5% аби визначити, чи є залежність між версією гри та тим, чи зайде гравець на 7ий день після встановлення гри.\n",
    "Тут гіпотези наступні\n",
    "- Н0: значення retention_7 не залежить від версії гри\n",
    "- Н1: є залежність між версією гри і значенням retention_7\n",
    "\n",
    "Виведіть p-значення та зробіть висновок.\n"
   ]
  },
  {
   "cell_type": "code",
   "execution_count": 31,
   "metadata": {
    "id": "kcwD-91Fh84n"
   },
   "outputs": [
    {
     "name": "stdout",
     "output_type": "stream",
     "text": [
      "p-value: 0.0016\n",
      "Відхиляємо нульову гіпотезу (H0): існує залежність між версією гри і значенням retention_7.\n"
     ]
    }
   ],
   "source": [
    "import pandas as pd\n",
    "from scipy.stats import chi2_contingency\n",
    "\n",
    "# Створюємо таблицю 2x2 для хі-квадрат тесту\n",
    "# Розраховуємо кількість гравців, які повернулися (True) та не повернулися (False) для кожної версії\n",
    "table = pd.crosstab(df['version'], df['retention_7'])\n",
    "\n",
    "# Виконуємо тест хі-квадрат\n",
    "chi2_stat, p_value, dof, expected = chi2_contingency(table)\n",
    "\n",
    "# Виводимо результати\n",
    "print(f\"p-value: {p_value:.4f}\")\n",
    "\n",
    "\n",
    "alpha = 0.05\n",
    "if p_value < alpha:\n",
    "    print(\"Відхиляємо нульову гіпотезу (H0): існує залежність між версією гри і значенням retention_7.\")\n",
    "else:\n",
    "    print(\"Не відхиляємо нульову гіпотезу (H0): значення retention_7 не залежить від версії гри.\")\n"
   ]
  },
  {
   "cell_type": "code",
   "execution_count": null,
   "metadata": {},
   "outputs": [],
   "source": []
  }
 ],
 "metadata": {
  "colab": {
   "provenance": []
  },
  "kernelspec": {
   "display_name": "Python 3 (ipykernel)",
   "language": "python",
   "name": "python3"
  },
  "language_info": {
   "codemirror_mode": {
    "name": "ipython",
    "version": 3
   },
   "file_extension": ".py",
   "mimetype": "text/x-python",
   "name": "python",
   "nbconvert_exporter": "python",
   "pygments_lexer": "ipython3",
   "version": "3.12.2"
  }
 },
 "nbformat": 4,
 "nbformat_minor": 4
}
