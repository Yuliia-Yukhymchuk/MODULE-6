{
 "cells": [
  {
   "cell_type": "markdown",
   "id": "3cd61c7f-dbd1-499b-bdcc-3f2559cc8d60",
   "metadata": {},
   "source": [
    "# Завдання 1\n",
    "\n",
    "Дохід R від 100 клієнтів які приєдналися в травні 2019 до травня 2021 року (тобто за 24 місяці)\n",
    "\n",
    "$$\n",
    "R = 10 \\times 100 \\times \\frac{(1 - 0.95)^{24}}{(1 - 0.95)} = 14160\n",
    "$$\n",
    "\n",
    "Дохід від 150 клієнтів які приєдналися в червні 2019 до травня 2021 року (за 23 місяці)\n",
    "$$\n",
    "R = 10 \\times 150 \\times \\frac{(1 - 0.95)^{23}}{(1 - 0.95)} = 20779\n",
    "$$\n",
    "\n",
    "Дохід від 150 клієнтів які приєдналися в липні 2019 до травня 2021 року (за 22 місяці)\n",
    "$$\n",
    "R = 10 \\times 170 \\times \\frac{(1 - 0.95)^{22}}{(1 - 0.95)} = 22999\n",
    "$$\n",
    "\n",
    "Сумарний дохід:\n",
    "14160 + 20779 + 22999 = 57938\n"
   ]
  },
  {
   "cell_type": "markdown",
   "id": "d5e3a0d0-46db-4f85-8253-f1963e55adf5",
   "metadata": {},
   "source": [
    "# Завдання 2\n",
    "\n",
    "В цьому завданні треба врахувати водночастно і приріст і відплив користувачів, щоб знайти кількість кліжнтів N через 2 роки (період від січня 2020 року до кінця грудня 2021 року)\n",
    "\n",
    "$$\n",
    "N = 2000 \\times \\left(1.03 \\times 0.98\\right)^{24 - 1} = 2408\n",
    "$$"
   ]
  },
  {
   "cell_type": "markdown",
   "id": "68204a1b-cf35-42d4-ac7a-4c7a83bba498",
   "metadata": {},
   "source": [
    "# Завдання 3\n",
    "Січень - 500 користувачів\n",
    "лютий - 750 користувачів\n",
    "березень - 750*1.2 = 900 користувачів\n",
    "до червня включно:\n",
    "\n",
    "$$\n",
    "N = 900 \\times(1,1)^{3} = 1198\n",
    "$$"
   ]
  },
  {
   "cell_type": "code",
   "execution_count": null,
   "id": "b49f0586-1583-40ca-b1f9-41800f5d5bb4",
   "metadata": {},
   "outputs": [],
   "source": []
  }
 ],
 "metadata": {
  "kernelspec": {
   "display_name": "Python 3 (ipykernel)",
   "language": "python",
   "name": "python3"
  },
  "language_info": {
   "codemirror_mode": {
    "name": "ipython",
    "version": 3
   },
   "file_extension": ".py",
   "mimetype": "text/x-python",
   "name": "python",
   "nbconvert_exporter": "python",
   "pygments_lexer": "ipython3",
   "version": "3.12.2"
  }
 },
 "nbformat": 4,
 "nbformat_minor": 5
}
